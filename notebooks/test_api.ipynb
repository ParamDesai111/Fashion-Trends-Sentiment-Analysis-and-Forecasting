{
 "cells": [
  {
   "cell_type": "markdown",
   "metadata": {},
   "source": [
    "# Testing APIs"
   ]
  },
  {
   "cell_type": "markdown",
   "metadata": {},
   "source": [
    "#### Config"
   ]
  },
  {
   "cell_type": "code",
   "execution_count": 60,
   "metadata": {},
   "outputs": [
    {
     "name": "stdout",
     "output_type": "stream",
     "text": [
      "Config loaded successfully!\n"
     ]
    }
   ],
   "source": [
    "import configparser\n",
    "\n",
    "# Load configuration\n",
    "config = configparser.RawConfigParser()\n",
    "config.read('../config/config.ini')\n",
    "\n",
    "# Twitter API credentials\n",
    "API_KEY = config['TWITTER_API']['API_KEY']\n",
    "API_SECRET = config['TWITTER_API']['API_SECRET']\n",
    "ACCESS_TOKEN = config['TWITTER_API']['ACCESS_TOKEN']\n",
    "ACCESS_SECRET = config['TWITTER_API']['ACCESS_SECRET']\n",
    "BEARER_TOKEN = config['TWITTER_API']['BEARER_TOKEN']\n",
    "\n",
    "# Azure Event Hub Kafka settings\n",
    "KAFKA_BROKER = config['AZURE_EVENTHUB']['BROKER']\n",
    "EVENT_HUB_NAME = config['AZURE_EVENTHUB']['EVENT_HUB_NAME']\n",
    "KAFKA_SASL_USERNAME = config['AZURE_EVENTHUB']['SASL_USERNAME']\n",
    "KAFKA_SASL_PASSWORD = config['AZURE_EVENTHUB']['SASL_PASSWORD']\n",
    "\n",
    "# Reddit API Settings\n",
    "REDDIT_CLIENT_ID = config['REDDIT_API']['CLIENT_ID']\n",
    "REDDIT_CLIENT_SECRET = config['REDDIT_API']['CLIENT_SECRET']\n",
    "REDDIT_USER_AGENT = config['REDDIT_API']['USER_AGENT']\n",
    "REDDIT_USERNAME = config['REDDIT_API']['USERNAME']\n",
    "REDDIT_PASSWORD = config['REDDIT_API']['PASSWORD']\n",
    "\n",
    "print(\"Config loaded successfully!\")"
   ]
  },
  {
   "cell_type": "markdown",
   "metadata": {},
   "source": [
    "#### Testing Tweepy"
   ]
  },
  {
   "cell_type": "code",
   "execution_count": 61,
   "metadata": {},
   "outputs": [],
   "source": [
    "import tweepy\n",
    "import pandas as pd\n",
    "import time"
   ]
  },
  {
   "cell_type": "code",
   "execution_count": 47,
   "metadata": {},
   "outputs": [
    {
     "name": "stdout",
     "output_type": "stream",
     "text": [
      "Authentication successful!\n"
     ]
    }
   ],
   "source": [
    "auth = tweepy.OAuthHandler(API_KEY, API_SECRET)\n",
    "auth.set_access_token(ACCESS_TOKEN, ACCESS_SECRET)\n",
    "api = tweepy.API(auth, wait_on_rate_limit=True)\n",
    "\n",
    "# Test authentication\n",
    "try:\n",
    "    api.verify_credentials()\n",
    "    print(\"Authentication successful!\")\n",
    "except Exception as e:\n",
    "    print(f\"Error: {e}\")\n"
   ]
  },
  {
   "cell_type": "code",
   "execution_count": 48,
   "metadata": {},
   "outputs": [
    {
     "name": "stdout",
     "output_type": "stream",
     "text": [
      "                    id                created_at  \\\n",
      "0  1869087265127125142 2024-12-17 18:28:24+00:00   \n",
      "1  1869087235427172369 2024-12-17 18:28:17+00:00   \n",
      "2  1869087207174328518 2024-12-17 18:28:10+00:00   \n",
      "3  1869087182184689829 2024-12-17 18:28:04+00:00   \n",
      "4  1869087157920600371 2024-12-17 18:27:59+00:00   \n",
      "5  1869087150886867395 2024-12-17 18:27:57+00:00   \n",
      "6  1869087145358712856 2024-12-17 18:27:56+00:00   \n",
      "7  1869087143500648723 2024-12-17 18:27:55+00:00   \n",
      "8  1869087122965381609 2024-12-17 18:27:50+00:00   \n",
      "9  1869087119135895917 2024-12-17 18:27:49+00:00   \n",
      "\n",
      "                                                text  \n",
      "0  Checkout on this shop on Shopee! Fashion  http...  \n",
      "1  @Spread_Star @voguebusiness @Khulood_Almani @S...  \n",
      "2  I paid for express shipping, and Fashion Nova ...  \n",
      "3  @Ashy_slashee Hmmm... 🤔\\n\\nIt's a tough one th...  \n",
      "4  🌟HOT HOT earn more with our crypto pump! $BTC ...  \n",
      "5  they're stronger than me because if i had the ...  \n",
      "6  i keep a copy of K&amp;R C in russian as a fas...  \n",
      "7  @Versace Delightfully invited to Versace's Spr...  \n",
      "8  @TheTitanBaddie @rihnavyannagggb Singing, danc...  \n",
      "9  @colossusPhD Airline gourmet meal consumption....  \n"
     ]
    }
   ],
   "source": [
    "client = tweepy.Client(bearer_token=BEARER_TOKEN, consumer_key=API_KEY, consumer_secret=API_SECRET, access_token=ACCESS_TOKEN, access_token_secret=ACCESS_SECRET)\n",
    "auth = tweepy.OAuth2BearerHandler(BEARER_TOKEN)\n",
    "api = tweepy.API(auth)\n",
    "# Search for recent tweets\n",
    "query = \"fashion -is:retweet lang:en\"  # Keywords + filter for retweets\n",
    "response = client.search_recent_tweets(query=query, max_results=10, tweet_fields=[\"created_at\", \"text\"])\n",
    "\n",
    "# Parse and store data\n",
    "data = []\n",
    "if response.data:\n",
    "    for tweet in response.data:\n",
    "        data.append({\n",
    "            \"id\": tweet.id,\n",
    "            \"created_at\": tweet.created_at,\n",
    "            \"text\": tweet.text\n",
    "        })\n",
    "\n",
    "# Convert to DataFrame\n",
    "df = pd.DataFrame(data)\n",
    "print(df)\n"
   ]
  },
  {
   "cell_type": "code",
   "execution_count": 49,
   "metadata": {},
   "outputs": [
    {
     "data": {
      "text/plain": [
       "'Checkout on this shop on Shopee! Fashion  https://t.co/XLTOcf7ygW: https://t.co/sygAl8rFQD'"
      ]
     },
     "execution_count": 49,
     "metadata": {},
     "output_type": "execute_result"
    }
   ],
   "source": [
    "df['text'][0]"
   ]
  },
  {
   "cell_type": "markdown",
   "metadata": {},
   "source": [
    "#### Testing Reddit API"
   ]
  },
  {
   "cell_type": "code",
   "execution_count": 66,
   "metadata": {},
   "outputs": [],
   "source": [
    "import praw\n",
    "import pandas as pd\n",
    "\n",
    "# Reddit API credentials\n",
    "reddit = praw.Reddit(\n",
    "    client_id=REDDIT_CLIENT_ID,\n",
    "    client_secret=REDDIT_CLIENT_SECRET,\n",
    "    user_agent=REDDIT_USER_AGENT,\n",
    "    redirect_uri=\"http://localhost\",\n",
    ")"
   ]
  },
  {
   "cell_type": "code",
   "execution_count": 71,
   "metadata": {},
   "outputs": [
    {
     "data": {
      "text/html": [
       "<div>\n",
       "<style scoped>\n",
       "    .dataframe tbody tr th:only-of-type {\n",
       "        vertical-align: middle;\n",
       "    }\n",
       "\n",
       "    .dataframe tbody tr th {\n",
       "        vertical-align: top;\n",
       "    }\n",
       "\n",
       "    .dataframe thead th {\n",
       "        text-align: right;\n",
       "    }\n",
       "</style>\n",
       "<table border=\"1\" class=\"dataframe\">\n",
       "  <thead>\n",
       "    <tr style=\"text-align: right;\">\n",
       "      <th></th>\n",
       "      <th>title</th>\n",
       "      <th>score</th>\n",
       "      <th>num_comments</th>\n",
       "      <th>created_utc</th>\n",
       "      <th>selftext</th>\n",
       "    </tr>\n",
       "  </thead>\n",
       "  <tbody>\n",
       "    <tr>\n",
       "      <th>0</th>\n",
       "      <td>WAYWT (What Are You Wearing This Week?) - 23 O...</td>\n",
       "      <td>6</td>\n",
       "      <td>23</td>\n",
       "      <td>1.729688e+09</td>\n",
       "      <td>WAYWT = What Are You Wearing This Week (or a d...</td>\n",
       "    </tr>\n",
       "    <tr>\n",
       "      <th>1</th>\n",
       "      <td>➡️ Daily Simple Questions ⬅️- Style feedback a...</td>\n",
       "      <td>1</td>\n",
       "      <td>4</td>\n",
       "      <td>1.734455e+09</td>\n",
       "      <td>Welcome to the Daily Questions thread for all ...</td>\n",
       "    </tr>\n",
       "    <tr>\n",
       "      <th>2</th>\n",
       "      <td>I've held my tongue as long as I can.</td>\n",
       "      <td>405</td>\n",
       "      <td>125</td>\n",
       "      <td>1.734420e+09</td>\n",
       "      <td>Some of the questions that get asked here are ...</td>\n",
       "    </tr>\n",
       "    <tr>\n",
       "      <th>3</th>\n",
       "      <td>Does anyone know what this suit jacket style i...</td>\n",
       "      <td>2</td>\n",
       "      <td>0</td>\n",
       "      <td>1.734460e+09</td>\n",
       "      <td>[https://imgur.com/a/9SDo8Jw](https://imgur.co...</td>\n",
       "    </tr>\n",
       "    <tr>\n",
       "      <th>4</th>\n",
       "      <td>Tom Ford Oud Wood - 1.7oz</td>\n",
       "      <td>2</td>\n",
       "      <td>0</td>\n",
       "      <td>1.734460e+09</td>\n",
       "      <td>Tom Ford Oud Wood - 1.7oz for $110 from Costco...</td>\n",
       "    </tr>\n",
       "  </tbody>\n",
       "</table>\n",
       "</div>"
      ],
      "text/plain": [
       "                                               title  score  num_comments  \\\n",
       "0  WAYWT (What Are You Wearing This Week?) - 23 O...      6            23   \n",
       "1  ➡️ Daily Simple Questions ⬅️- Style feedback a...      1             4   \n",
       "2              I've held my tongue as long as I can.    405           125   \n",
       "3  Does anyone know what this suit jacket style i...      2             0   \n",
       "4                          Tom Ford Oud Wood - 1.7oz      2             0   \n",
       "\n",
       "    created_utc                                           selftext  \n",
       "0  1.729688e+09  WAYWT = What Are You Wearing This Week (or a d...  \n",
       "1  1.734455e+09  Welcome to the Daily Questions thread for all ...  \n",
       "2  1.734420e+09  Some of the questions that get asked here are ...  \n",
       "3  1.734460e+09  [https://imgur.com/a/9SDo8Jw](https://imgur.co...  \n",
       "4  1.734460e+09  Tom Ford Oud Wood - 1.7oz for $110 from Costco...  "
      ]
     },
     "execution_count": 71,
     "metadata": {},
     "output_type": "execute_result"
    }
   ],
   "source": [
    "# Subreddit to analyze\n",
    "subreddit = reddit.subreddit(\"malefashionadvice\")\n",
    "\n",
    "# Fetch posts from 'hot', 'new', or 'top'\n",
    "posts = []\n",
    "for post in subreddit.hot(limit=100):  # Change limit as needed\n",
    "    posts.append({\n",
    "        \"title\": post.title,\n",
    "        \"score\": post.score,\n",
    "        \"num_comments\": post.num_comments,\n",
    "        \"created_utc\": post.created_utc,\n",
    "        \"selftext\": post.selftext\n",
    "    })\n",
    "\n",
    "# Convert to DataFrame\n",
    "df = pd.DataFrame(posts)\n",
    "df.head()"
   ]
  },
  {
   "cell_type": "code",
   "execution_count": 77,
   "metadata": {},
   "outputs": [
    {
     "data": {
      "text/plain": [
       "'Looking to get my first proper (ie. not “smart”) watch for nicer outfits. Being both a Swiss design and rail travel aficionado, a Mondaine Swiss Rail clock watch seems perfect for my taste. Any opinions on them? Good quality for the price? Long lasting?'"
      ]
     },
     "execution_count": 77,
     "metadata": {},
     "output_type": "execute_result"
    }
   ],
   "source": [
    "df['selftext'][99]"
   ]
  }
 ],
 "metadata": {
  "kernelspec": {
   "display_name": "Python 3",
   "language": "python",
   "name": "python3"
  },
  "language_info": {
   "codemirror_mode": {
    "name": "ipython",
    "version": 3
   },
   "file_extension": ".py",
   "mimetype": "text/x-python",
   "name": "python",
   "nbconvert_exporter": "python",
   "pygments_lexer": "ipython3",
   "version": "3.12.7"
  }
 },
 "nbformat": 4,
 "nbformat_minor": 2
}
