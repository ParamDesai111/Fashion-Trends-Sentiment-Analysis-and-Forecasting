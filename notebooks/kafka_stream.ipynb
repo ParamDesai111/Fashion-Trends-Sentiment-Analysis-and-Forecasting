{
 "cells": [
  {
   "cell_type": "markdown",
   "metadata": {},
   "source": [
    "# Stream using Kafka for Pipeline"
   ]
  },
  {
   "cell_type": "markdown",
   "metadata": {},
   "source": [
    "##### Config"
   ]
  },
  {
   "cell_type": "code",
   "execution_count": 14,
   "metadata": {},
   "outputs": [
    {
     "name": "stdout",
     "output_type": "stream",
     "text": [
      "Config loaded successfully!\n"
     ]
    }
   ],
   "source": [
    "import configparser\n",
    "\n",
    "# Load configuration\n",
    "config = configparser.RawConfigParser()\n",
    "config.read('../config/config.ini')\n",
    "\n",
    "# Azure Event Hub Kafka settings\n",
    "KAFKA_BROKER = config['AZURE_EVENTHUB']['BROKER']\n",
    "EVENT_HUB_NAME = config['AZURE_EVENTHUB']['EVENT_HUB_NAME']\n",
    "KAFKA_SASL_USERNAME = config['AZURE_EVENTHUB']['SASL_USERNAME']\n",
    "KAFKA_SASL_PASSWORD = config['AZURE_EVENTHUB']['SASL_PASSWORD']\n",
    "\n",
    "# Reddit API Settings\n",
    "REDDIT_CLIENT_ID = config['REDDIT_API']['CLIENT_ID']\n",
    "REDDIT_CLIENT_SECRET = config['REDDIT_API']['CLIENT_SECRET']\n",
    "REDDIT_USER_AGENT = config['REDDIT_API']['USER_AGENT']\n",
    "REDDIT_USERNAME = config['REDDIT_API']['USERNAME']\n",
    "REDDIT_PASSWORD = config['REDDIT_API']['PASSWORD']\n",
    "\n",
    "print(\"Config loaded successfully!\")"
   ]
  },
  {
   "cell_type": "code",
   "execution_count": 15,
   "metadata": {},
   "outputs": [],
   "source": [
    "import praw\n",
    "from kafka import KafkaProducer\n",
    "import json\n",
    "import time"
   ]
  },
  {
   "cell_type": "code",
   "execution_count": 16,
   "metadata": {},
   "outputs": [
    {
     "name": "stdout",
     "output_type": "stream",
     "text": [
      "Kafka Producer configured successfully!\n"
     ]
    }
   ],
   "source": [
    "# Reddit API credentials\n",
    "reddit = praw.Reddit(\n",
    "    client_id=REDDIT_CLIENT_ID,\n",
    "    client_secret=REDDIT_CLIENT_SECRET,\n",
    "    user_agent=REDDIT_USER_AGENT,\n",
    "    redirect_uri=\"http://localhost\",\n",
    ")\n",
    "\n",
    "# Set up Kafka Producer\n",
    "producer = KafkaProducer(\n",
    "    bootstrap_servers=KAFKA_BROKER,\n",
    "    sasl_mechanism=\"PLAIN\",\n",
    "    security_protocol=\"SASL_SSL\",\n",
    "    sasl_plain_username=KAFKA_SASL_USERNAME,\n",
    "    sasl_plain_password=KAFKA_SASL_PASSWORD,\n",
    "    value_serializer=lambda v: json.dumps(v).encode('utf-8')  # Serialize data as JSON\n",
    ")\n",
    "\n",
    "print(\"Kafka Producer configured successfully!\")\n"
   ]
  },
  {
   "cell_type": "code",
   "execution_count": 17,
   "metadata": {},
   "outputs": [],
   "source": [
    "def stream_reddit_to_kafka(subreddit_name, num_posts=20):\n",
    "    \"\"\"\n",
    "    Fetch Reddit posts from the specified subreddit and produce them to Kafka.\n",
    "\n",
    "    :param subreddit_name: Name of the subreddit to stream from.\n",
    "    :param num_posts: Number of posts to fetch in one iteration.\n",
    "    \"\"\"\n",
    "    subreddit = reddit.subreddit(subreddit_name)\n",
    "    print(f\"Streaming posts from r/{subreddit_name}...\")\n",
    "\n",
    "    for submission in subreddit.stream.submissions():\n",
    "        post_data = {\n",
    "            \"id\": submission.id,\n",
    "            \"title\": submission.title,\n",
    "            \"author\": str(submission.author),\n",
    "            \"created_utc\": submission.created_utc,\n",
    "            \"url\": submission.url,\n",
    "            \"num_comments\": submission.num_comments,\n",
    "            \"score\": submission.score\n",
    "        }\n",
    "\n",
    "        # Send to Kafka\n",
    "        try:\n",
    "            producer.send(EVENT_HUB_NAME, value=post_data)\n",
    "            print(f\"Sent to Kafka: {post_data['title']}\")\n",
    "        except Exception as e:\n",
    "            print(f\"Failed to send message to Kafka: {e}\")\n",
    "        \n",
    "        time.sleep(0.5)  # Sleep for a short duration to simulate a streaming flow\n"
   ]
  },
  {
   "cell_type": "code",
   "execution_count": 18,
   "metadata": {},
   "outputs": [
    {
     "name": "stdout",
     "output_type": "stream",
     "text": [
      "Streaming posts from r/fashion...\n",
      "Sent to Kafka: Did I Kill The Look ? \n",
      "Sent to Kafka: McDonald’s, bolsos emulan Egg McMuffins y papas fritas\n",
      "Sent to Kafka: Inspiration from classic European fashion\n",
      "Sent to Kafka: Mom wants to wear this outfit for the Christmas party. \n",
      "Sent to Kafka: Love the colour and lenght of this dress\n",
      "Sent to Kafka: Birthday look\n",
      "Sent to Kafka: Smart Casual outfit for company party\n",
      "Sent to Kafka: Pink goes well with green.\n",
      "Sent to Kafka: Too black? \n",
      "Sent to Kafka: Is this blazer too casual/noisey for an interview? \n",
      "Sent to Kafka: All black 🖤\n",
      "Sent to Kafka: Are you a fan of dress sweaters? I found this one in an exclusive vintage store\n",
      "Sent to Kafka: White jeans and navy sweater \n",
      "Sent to Kafka: Some cute selfies :3\n",
      "Sent to Kafka: Fashion crimes \n",
      "Sent to Kafka: How would you style these?\n",
      "Sent to Kafka: Winter Light: Soft Lines, a Moment of Warmth in the Shadows. \n",
      "Sent to Kafka: Never used a fanny pack before, thoughts?\n",
      "Sent to Kafka: “Mob wife aesthetic” inspired work Xmas party outfit \n",
      "Sent to Kafka: I've tried different styles with this white turtleneck sweater. Which one do you like most? 🤍✨️\n",
      "Sent to Kafka: 🖤\n",
      "Sent to Kafka: 🖤\n",
      "Sent to Kafka: 🖤\n",
      "Sent to Kafka: Making the colours match, absolutely love the outfit!\n",
      "Sent to Kafka: Girls rate this Facial Hair out of 10 and Also Comment your favourite Facial hair look like Clean shave, stubble or beard. \n",
      "Sent to Kafka: Updated long cardigan styling, thanks for the tips! \n",
      "Sent to Kafka: Any Feedback is appreciated, Casual Boot Wear. \n",
      "Sent to Kafka: As a Scorpio rising with a Libra Venus girlie, I think I could say I ate this look.\n",
      "Sent to Kafka: Cute fits from this year!\n",
      "Sent to Kafka: Could I get away with wearing this anywhere other than a vintage themed night or is it just  too much? \n",
      "Sent to Kafka: Ponchos make a great option for damp or mild weather\n",
      "Sent to Kafka: Thrifted the fit\n",
      "Sent to Kafka: Outfit for a launch event\n",
      "Sent to Kafka: ^^\n",
      "Sent to Kafka: Going out for lunch outfit \n",
      "Sent to Kafka: Some black outfit combos i did \n",
      "Sent to Kafka: Is this dress ok to wear for work? \n",
      "Sent to Kafka: Christmas Party OOTD\n",
      "Sent to Kafka: Throwback to my King’s Coronation Outfit\n",
      "Sent to Kafka: Listened to your advices, does it look less bad?\n",
      "Sent to Kafka: OOTD\n",
      "Sent to Kafka: Desert Fit\n",
      "Sent to Kafka: First post After 3 years\n",
      "Sent to Kafka: Is this leather jacket too big on me? \n",
      "Sent to Kafka: Does the jacket fits alright on me? \n",
      "Sent to Kafka: 🎀🩷\n",
      "Sent to Kafka: How to dress like this??\n",
      "Sent to Kafka: kept it minimal OOTD\n",
      "Sent to Kafka: What do yall think\n",
      "Sent to Kafka: What aesthetic is this? \n",
      "Sent to Kafka: Cut and sew 1 of 1 piece\n",
      "Sent to Kafka: Coat Question \n",
      "Sent to Kafka: Any Ferrari fans please legit check\n",
      "Sent to Kafka: OUTFIT I MADE ANYONE INTERESTED \n",
      "Sent to Kafka: Since it's christnas time I went with red \n",
      "Sent to Kafka: it's dripping tonight\n",
      "Sent to Kafka: Lil outfit rotation 🍂💫\n",
      "Sent to Kafka: What do yall think of my style?\n",
      "Sent to Kafka: Tips on styling a crewneck sweatshirt?\n",
      "Sent to Kafka: Well well well... Skinny Jeans and Ballet Pumps Are Suddenly (finally) Popular Again\n",
      "Sent to Kafka: Could you name a fashion X Artist collab project?\n",
      "Sent to Kafka: Tried My Hand At Indigo Dyeing\n",
      "Sent to Kafka: Dinner at a winery outfit. Thoughts? \n",
      "Sent to Kafka: Christmas party dress 🎄\n",
      "Sent to Kafka: r/Fashion is now SFW ACCOUNTS ONLY: Please Read Before Participating\n",
      "Sent to Kafka: Spouse’s holiday work party\n",
      "Sent to Kafka: favorite pants \n",
      "Sent to Kafka: 🌎🧡\n",
      "Sent to Kafka: Outfit of the day\n",
      "Sent to Kafka: simple but make it fashion \n",
      "Sent to Kafka: Vacation outfit🤎😊\n",
      "Sent to Kafka: This western outlaw inspire outfit I put together 🤠\n",
      "Sent to Kafka: created some design of t-shirt\n",
      "Sent to Kafka: Styling crewneck sweatshirts?\n",
      "Sent to Kafka: My Anti-Racist Clothing Designs\n",
      "Sent to Kafka: What shoes and accessories should I wear with this dress?\n",
      "Sent to Kafka: Tried to do something with this new jacket I got\n",
      "Sent to Kafka: NYE Fashion Ideas!! Doing a bunch more tonight I can share as well! If you have specific items you need made into looks let me know! \n",
      "Sent to Kafka: How do I style this top\n",
      "Sent to Kafka: straight outa neon city\n",
      "Sent to Kafka: Recreated this outfit but didn’t have the shoes how did I do? \n",
      "Sent to Kafka: Keeping it Simple \n",
      "Sent to Kafka: Tried out the Grandpa Aesthetic \n",
      "Sent to Kafka: Outfit for makers market \n",
      "Sent to Kafka: This is my outfit to see the lights! 🎀 (second slide is my matching nails with the outfit)\n",
      "Sent to Kafka: Which sweater do we like best? \n",
      "Sent to Kafka: Is this suitable for a (work related) black tie event?\n",
      "Sent to Kafka: One Of My Favorite Outfits 🖤\n",
      "Sent to Kafka: Which outfit should I wear to a concert?\n",
      "Sent to Kafka: Trying something new with illustrations! This or Reels/Tiktoks👀🧐\n",
      "Sent to Kafka: Is Balenciaga still canceled? \n",
      "Sent to Kafka: Festive look\n",
      "Sent to Kafka: Is this too much for a non-fancy anniversary dinner?\n",
      "Sent to Kafka: Ego dress I can’t figure out how to get on!!\n",
      "Sent to Kafka: Fits ! \n",
      "Sent to Kafka: Does this look ok or do I need to style it with a belt or something?? \n",
      "Sent to Kafka: Cropped leather jacket!\n",
      "Sent to Kafka: whenever someone asks me what my style is, I never know what to say \n",
      "Sent to Kafka: Looking for my own “signature” style element\n",
      "Sent to Kafka: Do you guys think this is a good t-shirt?\n",
      "Streaming stopped.\n"
     ]
    }
   ],
   "source": [
    "# Test streaming from a specific subreddit\n",
    "try:\n",
    "    stream_reddit_to_kafka(subreddit_name=\"fashion\", num_posts=20)\n",
    "except KeyboardInterrupt:\n",
    "    print(\"Streaming stopped.\")\n",
    "except Exception as e:\n",
    "    print(f\"Error: {e}\")\n"
   ]
  },
  {
   "cell_type": "code",
   "execution_count": null,
   "metadata": {},
   "outputs": [],
   "source": []
  }
 ],
 "metadata": {
  "kernelspec": {
   "display_name": "Python 3",
   "language": "python",
   "name": "python3"
  },
  "language_info": {
   "codemirror_mode": {
    "name": "ipython",
    "version": 3
   },
   "file_extension": ".py",
   "mimetype": "text/x-python",
   "name": "python",
   "nbconvert_exporter": "python",
   "pygments_lexer": "ipython3",
   "version": "3.12.7"
  }
 },
 "nbformat": 4,
 "nbformat_minor": 2
}
