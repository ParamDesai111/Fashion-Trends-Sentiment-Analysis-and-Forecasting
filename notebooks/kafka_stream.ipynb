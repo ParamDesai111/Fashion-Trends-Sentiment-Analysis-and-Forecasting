{
 "cells": [
  {
   "cell_type": "markdown",
   "metadata": {},
   "source": [
    "# Stream using Kafka for Pipeline"
   ]
  },
  {
   "cell_type": "markdown",
   "metadata": {},
   "source": [
    "##### Config"
   ]
  },
  {
   "cell_type": "code",
   "execution_count": 14,
   "metadata": {},
   "outputs": [
    {
     "name": "stdout",
     "output_type": "stream",
     "text": [
      "Config loaded successfully!\n"
     ]
    }
   ],
   "source": [
    "import configparser\n",
    "\n",
    "# Load configuration\n",
    "config = configparser.RawConfigParser()\n",
    "config.read('../config/config.ini')\n",
    "\n",
    "# Azure Event Hub Kafka settings\n",
    "KAFKA_BROKER = config['AZURE_EVENTHUB']['BROKER']\n",
    "EVENT_HUB_NAME = config['AZURE_EVENTHUB']['EVENT_HUB_NAME']\n",
    "KAFKA_SASL_USERNAME = config['AZURE_EVENTHUB']['SASL_USERNAME']\n",
    "KAFKA_SASL_PASSWORD = config['AZURE_EVENTHUB']['SASL_PASSWORD']\n",
    "\n",
    "# Reddit API Settings\n",
    "REDDIT_CLIENT_ID = config['REDDIT_API']['CLIENT_ID']\n",
    "REDDIT_CLIENT_SECRET = config['REDDIT_API']['CLIENT_SECRET']\n",
    "REDDIT_USER_AGENT = config['REDDIT_API']['USER_AGENT']\n",
    "REDDIT_USERNAME = config['REDDIT_API']['USERNAME']\n",
    "REDDIT_PASSWORD = config['REDDIT_API']['PASSWORD']\n",
    "\n",
    "print(\"Config loaded successfully!\")"
   ]
  },
  {
   "cell_type": "code",
   "execution_count": 19,
   "metadata": {},
   "outputs": [],
   "source": [
    "import praw\n",
    "from kafka import KafkaProducer\n",
    "import json\n",
    "import time\n",
    "import pandas as pd"
   ]
  },
  {
   "cell_type": "code",
   "execution_count": 20,
   "metadata": {},
   "outputs": [
    {
     "name": "stdout",
     "output_type": "stream",
     "text": [
      "Kafka Producer configured successfully!\n"
     ]
    }
   ],
   "source": [
    "# Reddit API credentials\n",
    "reddit = praw.Reddit(\n",
    "    client_id=REDDIT_CLIENT_ID,\n",
    "    client_secret=REDDIT_CLIENT_SECRET,\n",
    "    user_agent=REDDIT_USER_AGENT,\n",
    "    redirect_uri=\"http://localhost\",\n",
    ")\n",
    "\n",
    "# Set up Kafka Producer\n",
    "producer = KafkaProducer(\n",
    "    bootstrap_servers=KAFKA_BROKER,\n",
    "    sasl_mechanism=\"PLAIN\",\n",
    "    security_protocol=\"SASL_SSL\",\n",
    "    sasl_plain_username=KAFKA_SASL_USERNAME,\n",
    "    sasl_plain_password=KAFKA_SASL_PASSWORD,\n",
    "    value_serializer=lambda v: json.dumps(v).encode('utf-8')  # Serialize data as JSON\n",
    ")\n",
    "\n",
    "print(\"Kafka Producer configured successfully!\")\n"
   ]
  },
  {
   "cell_type": "code",
   "execution_count": 25,
   "metadata": {},
   "outputs": [],
   "source": [
    "def stream_reddit_to_kafka(subreddit_name, num_posts=20):\n",
    "    \"\"\"\n",
    "    Fetch Reddit posts from the specified subreddit and produce them to Kafka.\n",
    "\n",
    "    :param subreddit_name: Name of the subreddit to stream from.\n",
    "    :param num_posts: Number of posts to fetch in one iteration.\n",
    "    \"\"\"\n",
    "    subreddit = reddit.subreddit(subreddit_name)\n",
    "    print(f\"Streaming posts from r/{subreddit_name}...\")\n",
    "    for submission in subreddit.stream.submissions():\n",
    "        post_data = {\n",
    "            \"id\": submission.id,\n",
    "            \"title\": submission.title,\n",
    "            \"author\": str(submission.author),\n",
    "            \"created_utc\": submission.created_utc,\n",
    "            \"url\": submission.url,\n",
    "            \"num_comments\": submission.num_comments,\n",
    "            \"score\": submission.score\n",
    "        }\n",
    "\n",
    "        # Send to Kafka\n",
    "        try:\n",
    "            producer.send(EVENT_HUB_NAME, value=post_data)\n",
    "            print(f\"Sent to Kafka: {post_data['title']}\")\n",
    "        except Exception as e:\n",
    "            print(f\"Failed to send message to Kafka: {e}\")\n",
    "        \n",
    "        time.sleep(0.5)  # Sleep for a short duration to simulate a streaming flow\n"
   ]
  },
  {
   "cell_type": "code",
   "execution_count": 28,
   "metadata": {},
   "outputs": [
    {
     "name": "stdout",
     "output_type": "stream",
     "text": [
      "Streaming posts from r/malefashionadvice...\n"
     ]
    }
   ],
   "source": [
    "# Test streaming from a specific subreddit\n",
    "try:\n",
    "    stream_reddit_to_kafka(subreddit_name=\"malefashionadvice\", num_posts=20)\n",
    "except KeyboardInterrupt:\n",
    "    print(\"Streaming stopped.\")\n",
    "except Exception as e:\n",
    "    print(f\"Error: {e}\")\n",
    "\n"
   ]
  },
  {
   "cell_type": "code",
   "execution_count": 30,
   "metadata": {},
   "outputs": [
    {
     "data": {
      "text/plain": [
       "'https://www.reddit.com/r/malefashionadvice/comments/1hepsl5/shoes_with_jeans/'"
      ]
     },
     "execution_count": 30,
     "metadata": {},
     "output_type": "execute_result"
    }
   ],
   "source": [
    "df['url'][0]"
   ]
  },
  {
   "cell_type": "code",
   "execution_count": null,
   "metadata": {},
   "outputs": [],
   "source": []
  }
 ],
 "metadata": {
  "kernelspec": {
   "display_name": "Python 3",
   "language": "python",
   "name": "python3"
  },
  "language_info": {
   "codemirror_mode": {
    "name": "ipython",
    "version": 3
   },
   "file_extension": ".py",
   "mimetype": "text/x-python",
   "name": "python",
   "nbconvert_exporter": "python",
   "pygments_lexer": "ipython3",
   "version": "3.12.7"
  }
 },
 "nbformat": 4,
 "nbformat_minor": 2
}
